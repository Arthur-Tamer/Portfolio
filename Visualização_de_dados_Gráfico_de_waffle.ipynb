{
  "nbformat": 4,
  "nbformat_minor": 0,
  "metadata": {
    "colab": {
      "provenance": [],
      "collapsed_sections": [],
      "include_colab_link": true
    },
    "kernelspec": {
      "name": "python3",
      "display_name": "Python 3"
    },
    "language_info": {
      "name": "python"
    }
  },
  "cells": [
    {
      "cell_type": "markdown",
      "metadata": {
        "id": "view-in-github",
        "colab_type": "text"
      },
      "source": [
        "<a href=\"https://colab.research.google.com/github/Arthur-Tamer/Portfolio/blob/main/Visualiza%C3%A7%C3%A3o_de_dados_Gr%C3%A1fico_de_waffle.ipynb\" target=\"_parent\"><img src=\"https://colab.research.google.com/assets/colab-badge.svg\" alt=\"Open In Colab\"/></a>"
      ]
    },
    {
      "cell_type": "markdown",
      "source": [
        "# **Visualização de dados: Gráfico de Waffle**\n",
        "\n",
        "---\n",
        "\n"
      ],
      "metadata": {
        "id": "wEFeTDXXWzzu"
      }
    },
    {
      "cell_type": "markdown",
      "source": [
        " Porquê? A piza pode ser deliciosa, mas os gráficos de piza/circulares são horríveis.\n"
      ],
      "metadata": {
        "id": "dpakYPJpkpuD"
      }
    },
    {
      "cell_type": "markdown",
      "source": [
        "![transferir.png](data:image/png;base64,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)"
      ],
      "metadata": {
        "id": "LQpOJA6gqaDb"
      }
    },
    {
      "cell_type": "markdown",
      "source": [
        "##**O que sabemos sobre gráficos de waffle?**\n",
        "\n",
        "1.   Eles são uma alternativa aos gráficos de piza/circulares porque são bons para exibir uma única percentagem. Normalmente, o gráfico de waffle é feito com quadrados representando o todo e podemos pintar esses quadrados com base na relação de várias partes com um todo.\n",
        "2.   São usados para mostrar o progresso em painéis onde cada elemento de exibição contribui para o geral.\n",
        "3.   Eles têm alguns contras, como se tornarem muito complicados quando muitas categorias estão envolvidas (como todos os gráficos).\n"
      ],
      "metadata": {
        "id": "36_UvdKQq8dF"
      }
    },
    {
      "cell_type": "markdown",
      "source": [
        "## Visualizando o todo\n",
        "\n",
        "Precisamos de ter em mente alguns pontos importantes quando se trata de construir a visualização:\n",
        "\n",
        "*   O cérebro tende a lutar quando vai além de meia dúzia de categorias e cores.\n",
        "\n",
        "*   A cor precisa de ser reservada para o impacto, deve ter significado e chamar a atenção. (Observe que isso nem sempre é fácil de fazer)\n",
        "\n",
        "*   Os gráficos de piza aumentam a carga mental de discernir arcos e áreas e, quando os valores estão próximos, é quase impossível dizer qual valor é maior."
      ],
      "metadata": {
        "id": "2VwqRKlgm8d5"
      }
    },
    {
      "cell_type": "markdown",
      "source": [
        "Então, quais são as coisas que precisamos de fazer para resolver o que foi dito acima?\n",
        "\n",
        "Foque nas 5 principais categorias para serem divididas e coloque o restante na categoria “outros”.\n",
        "\n",
        "*   Evite as cores padrão, use tons de uma cor neutra ou um conjunto de cores suaves.\n",
        "\n",
        "*   Abandone o gráfico de piza e construa um gráfico de waffle."
      ],
      "metadata": {
        "id": "L4uCaT52nVOp"
      }
    },
    {
      "cell_type": "markdown",
      "source": [
        "## **Construindo o gráfico de Waffle**\n"
      ],
      "metadata": {
        "id": "oEKy1hFIrsst"
      }
    },
    {
      "cell_type": "markdown",
      "source": [
        "A maneira mais simples de criar um gráfico de waffle é usando o pacote pywaffle."
      ],
      "metadata": {
        "id": "ScTMqqeKXjzX"
      }
    },
    {
      "cell_type": "markdown",
      "source": [
        "Primeiro, instalo o pacote pywaffle usando este comando:"
      ],
      "metadata": {
        "id": "-L9MP5ipYDqf"
      }
    },
    {
      "cell_type": "code",
      "execution_count": null,
      "metadata": {
        "id": "DNcpqNYmTCVg"
      },
      "outputs": [],
      "source": [
        "!pip install pywaffle -q"
      ]
    },
    {
      "cell_type": "markdown",
      "source": [
        "Então eu importo Waffle do pacote pywaffle"
      ],
      "metadata": {
        "id": "qDAWdIvHYJ0h"
      }
    },
    {
      "cell_type": "code",
      "source": [
        "# importar bibliotecas necessárias\n",
        "import matplotlib.pyplot as plt\n",
        "from pywaffle import Waffle"
      ],
      "metadata": {
        "id": "0HJmwUJdTF49"
      },
      "execution_count": null,
      "outputs": []
    },
    {
      "cell_type": "markdown",
      "source": [
        "Defino os dados que serão usados no gráfico:"
      ],
      "metadata": {
        "id": "JOdDPWVQYPag"
      }
    },
    {
      "cell_type": "code",
      "source": [
        "# definindo dados (https://www.100people.org/statistics-100-people/)\n",
        "df_dados = {'Criança': 25, 'Adulto': 66, '65+': 9}"
      ],
      "metadata": {
        "id": "wTRdlnnbUie3"
      },
      "execution_count": null,
      "outputs": []
    },
    {
      "cell_type": "markdown",
      "source": [
        "Agora, usando a documentação, posso criar gráficos de waffle básicos.\n",
        "\n",
        "Antes de tudo, devo instanciar uma nova figura, onde defino uma classe de figura como waffle, especifico quantas linhas nosso gráfico deve ter e valores para o gráfico."
      ],
      "metadata": {
        "id": "zrdED0JaYNpE"
      }
    },
    {
      "cell_type": "code",
      "source": [
        "# código simples para gráfico de waffle\n",
        "fig = plt.figure(\n",
        "    FigureClass = Waffle, \n",
        "    rows = 5,\n",
        "    values = df_dados,\n",
        "    labels = list(df_dados),\n",
        ")"
      ],
      "metadata": {
        "colab": {
          "base_uri": "https://localhost:8080/",
          "height": 131
        },
        "id": "WqScMZ4iVaZU",
        "outputId": "644d3168-187f-4135-825e-82de208b5b2f"
      },
      "execution_count": null,
      "outputs": [
        {
          "output_type": "display_data",
          "data": {
            "text/plain": [
              "<Waffle size 432x288 with 1 Axes>"
            ],
            "image/png": "[encoded data removed]"
          },
          "metadata": {
            "needs_background": "light"
          }
        }
      ]
    },
    {
      "cell_type": "markdown",
      "source": [
        "Obtemos uma imagem padrão para o gráfico de waffle, mas podemos alterar muitos parâmetros:\n",
        "\n",
        "* colors — uma lista de cores para cada categoria. O número de cores deve ser o mesmo que os valores.\n",
        "* columns — o número de colunas do gráfico de waffle. Colunas ou linhas são obrigatórias. Se passássemos linhas, as colunas seriam calculadas automaticamente."
      ],
      "metadata": {
        "id": "OnL7PIbDYYUJ"
      }
    },
    {
      "cell_type": "code",
      "source": [
        "# alterando cores e número de linhas/colunas\n",
        "fig = plt.figure(\n",
        "    FigureClass = Waffle, \n",
        "    rows = 7,\n",
        "    columns = 10,\n",
        "    colors = ['#1e2a78', '#ffd615', '#ff1f5a'],\n",
        "    values = df_dados,\n",
        "    labels = list(df_dados),\n",
        ")"
      ],
      "metadata": {
        "colab": {
          "base_uri": "https://localhost:8080/",
          "height": 297
        },
        "id": "tXRAfW2WTIAP",
        "outputId": "782eb1df-165d-42ba-84e8-aa52d3b1c8ce"
      },
      "execution_count": null,
      "outputs": [
        {
          "output_type": "display_data",
          "data": {
            "text/plain": [
              "<Waffle size 432x288 with 1 Axes>"
            ],
            "image/png": "[encoded data removed]"
          },
          "metadata": {
            "needs_background": "light"
          }
        }
      ]
    },
    {
      "cell_type": "markdown",
      "source": [
        "* characters — um caractere ou uma lista de caracteres para cada categoria.\n",
        "* font_size — tamanho da fonte para caracteres no gráfico. Pode ser um número absoluto ou valor de ‘xx-small’, ‘x-small’, ‘small’, ‘medium’, ‘large’, ‘x-large’, ‘xx-large’."
      ],
      "metadata": {
        "id": "aEjhjgjgYfuO"
      }
    },
    {
      "cell_type": "code",
      "source": [
        "# alterando símbolos e tamanho\n",
        "fig = plt.figure(\n",
        "    FigureClass = Waffle, \n",
        "    rows = 7,\n",
        "    columns = 10,\n",
        "    colors = ['#1e2a78', '#ffd615', '#ff1f5a'],\n",
        "    characters = ['+','o','*'],\n",
        "    font_size = 'xx-large',#27,\n",
        "    values = df_dados,\n",
        "    labels = list(df_dados),\n",
        ")"
      ],
      "metadata": {
        "colab": {
          "base_uri": "https://localhost:8080/",
          "height": 297
        },
        "id": "l-L2GaeyTK2D",
        "outputId": "bd6a5d06-acf2-48f6-ef93-956a9e72eb08"
      },
      "execution_count": null,
      "outputs": [
        {
          "output_type": "display_data",
          "data": {
            "text/plain": [
              "<Waffle size 432x288 with 1 Axes>"
            ],
            "image/png": "[encoded data removed]"
          },
          "metadata": {
            "needs_background": "light"
          }
        }
      ]
    },
    {
      "cell_type": "markdown",
      "source": [
        "* icons — podemos trocar símbolos e quadrados com ícones. Se for uma string, todas as categorias usam o mesmo ícone.\n",
        "* icon_legend — adicione seu ícone na legenda\n",
        "\n",
        "Podemos usar, por exemplo, representações de clima"
      ],
      "metadata": {
        "id": "Kt8A8WqjYoaA"
      }
    },
    {
      "cell_type": "code",
      "source": [
        "# grádico de Waffle com ícones de clima\n",
        "fig = plt.figure(\n",
        "    FigureClass = Waffle, \n",
        "    rows = 7,\n",
        "    columns = 10,\n",
        "    colors = ['#eac100', '#10316b', '#dee1ec'],\n",
        "    font_size = 'xx-large',#27,\n",
        "    values = df_dados,\n",
        "    labels = list(df_dados),\n",
        "    icons=['sun', 'cloud-showers-heavy', 'snowflake'], \n",
        "    icon_legend=True\n",
        ")"
      ],
      "metadata": {
        "colab": {
          "base_uri": "https://localhost:8080/",
          "height": 297
        },
        "id": "B8aZPInovT3c",
        "outputId": "3cc287f1-7b85-4ff6-fe66-36cf06c54679"
      },
      "execution_count": null,
      "outputs": [
        {
          "output_type": "display_data",
          "data": {
            "text/plain": [
              "<Waffle size 432x288 with 1 Axes>"
            ],
            "image/png": "[encoded data removed]"
          },
          "metadata": {
            "needs_background": "light"
          }
        }
      ]
    },
    {
      "cell_type": "markdown",
      "source": [
        "Como estamos analisando uma população, vou utilizar ícones de pessoas"
      ],
      "metadata": {
        "id": "F8-JQlpSvvHP"
      }
    },
    {
      "cell_type": "code",
      "source": [
        "# mudando símbolos para ícones\n",
        "fig = plt.figure(\n",
        "    FigureClass = Waffle, \n",
        "    rows = 7,\n",
        "    columns = 10,\n",
        "    colors = ['#1e2a78', '#ffd615', '#ff1f5a'],\n",
        "    font_size = 'xx-large',#27,\n",
        "    values = df_dados,\n",
        "    labels = list(df_dados),\n",
        "    icons='child', icon_size=20, \n",
        "    icon_legend=True\n",
        ")"
      ],
      "metadata": {
        "id": "qfQM-6YWTMXc",
        "colab": {
          "base_uri": "https://localhost:8080/",
          "height": 297
        },
        "outputId": "c2a8c369-0309-4f66-ef86-cfb0463d5640"
      },
      "execution_count": null,
      "outputs": [
        {
          "output_type": "display_data",
          "data": {
            "text/plain": [
              "<Waffle size 432x288 with 1 Axes>"
            ],
            "image/png": "[encoded data removed]"
          },
          "metadata": {
            "needs_background": "light"
          }
        }
      ]
    },
    {
      "cell_type": "markdown",
      "source": [
        "Mas ainda podemos melhorar, vamos mover a legenda para fora do gráfico."
      ],
      "metadata": {
        "id": "jG_zKg54Y0Sr"
      }
    },
    {
      "cell_type": "code",
      "source": [
        "# colocando a legenda fora do corpo do gráfico\n",
        "fig = plt.figure(\n",
        "    FigureClass = Waffle, \n",
        "    rows = 7,\n",
        "    columns = 10,\n",
        "    colors = ['#1e2a78', '#ffd615', '#ff1f5a'],\n",
        "    font_size = 'xx-large',#27,\n",
        "    values = df_dados,\n",
        "    legend = {'loc': 'upper left', 'bbox_to_anchor': (1, 1)},\n",
        "    labels = list(df_dados),\n",
        "    icons='child', icon_size=20, \n",
        "    icon_legend=True\n",
        ")"
      ],
      "metadata": {
        "colab": {
          "base_uri": "https://localhost:8080/",
          "height": 264
        },
        "id": "_pNKSeZqV7yk",
        "outputId": "dd5fe1c3-bc30-4b9f-a81b-a18d978dc10d"
      },
      "execution_count": null,
      "outputs": [
        {
          "output_type": "display_data",
          "data": {
            "text/plain": [
              "<Waffle size 432x288 with 1 Axes>"
            ],
            "image/png": "[encoded data removed]"
          },
          "metadata": {
            "needs_background": "light"
          }
        }
      ]
    },
    {
      "cell_type": "markdown",
      "source": [
        "Uma linha pode afastar a legenda do corpo do gráfico.\n",
        "```\n",
        "# legend = {'loc': 'upper left', 'bbox_to_anchor': (1, 1)},\n",
        "```\n",
        "\n"
      ],
      "metadata": {
        "id": "0l9lpfj_Y9Tp"
      }
    },
    {
      "cell_type": "markdown",
      "source": [
        "E por fim, podemos também adicionar um título para apresentar o nosso gráfico"
      ],
      "metadata": {
        "id": "hSnhGDkzt4qx"
      }
    },
    {
      "cell_type": "code",
      "source": [
        "# adicionando título no gráfico\n",
        "fig = plt.figure(\n",
        "    FigureClass = Waffle, \n",
        "    rows = 5,\n",
        "    columns = 20,\n",
        "    colors = ['#1e2a78', '#ffd615', '#ff1f5a'],\n",
        "    font_size = 'xx-large',#27,\n",
        "    values = df_dados,\n",
        "    legend = {'loc': 'upper left', 'bbox_to_anchor': (1, 1)},\n",
        "    labels = list(df_dados),\n",
        "    icons='child', icon_size=20, \n",
        "    icon_legend=True\n",
        ")\n",
        "plt.title('Se o mundo fosse 100 PESSOAS', weight='bold', size=14);"
      ],
      "metadata": {
        "colab": {
          "base_uri": "https://localhost:8080/",
          "height": 131
        },
        "id": "yn_FhXyIt8K5",
        "outputId": "ff041938-75fd-45de-f274-14a5666b7d44"
      },
      "execution_count": null,
      "outputs": [
        {
          "output_type": "display_data",
          "data": {
            "text/plain": [
              "<Waffle size 432x288 with 1 Axes>"
            ],
            "image/png": "[encoded data removed]"
          },
          "metadata": {
            "needs_background": "light"
          }
        }
      ]
    },
    {
      "cell_type": "markdown",
      "source": [
        "## **Conclusão**\n",
        "\n",
        "Ao analisar o gráfico do Waffle para a percentagem da população dividida entre categorias de idade, é possível inferir que:"
      ],
      "metadata": {
        "id": "ZADGXZvnw5bn"
      }
    },
    {
      "cell_type": "markdown",
      "source": [
        "*   Adultos > Crianças > 65+"
      ],
      "metadata": {
        "id": "hxucBQJmyrCU"
      }
    },
    {
      "cell_type": "markdown",
      "source": [
        "Em outras palavras, por cada grupo de 100 pessoas, deveríamos ter:\n",
        "\n",
        "\n",
        "*   Adultos: 75 (~ 75%)\n",
        "*   Crianças: 25 (~ 25%)\n",
        "*   65+: 9 (~ 9%)\n",
        "\n"
      ],
      "metadata": {
        "id": "zEXuCABRytlN"
      }
    },
    {
      "cell_type": "markdown",
      "source": [
        "Resumindo, o gráfico Waffle certamente poderia ser usado em Storytelling, pois fornece insights instantâneos ao leitor sobre percentagens e proporções. Parece uma alternativa melhor para os gráficos de piza, não é?\n"
      ],
      "metadata": {
        "id": "78yn1oLmy1HL"
      }
    },
    {
      "cell_type": "markdown",
      "source": [
        "Se você tiver alguma dúvida ou feedback, sinta-se à vontade para me contactar através do [LinkedIn](https://www.linkedin.com/in/arthur-tamer/)"
      ],
      "metadata": {
        "id": "gMe-CVKty3lP"
      }
    }
  ]
}